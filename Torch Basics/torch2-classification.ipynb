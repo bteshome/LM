{
 "cells": [
  {
   "cell_type": "code",
   "execution_count": 1,
   "id": "bb127fc4",
   "metadata": {},
   "outputs": [],
   "source": [
    "import requests\n",
    "import pandas as pd\n",
    "import torch\n",
    "import torch.nn as nn\n",
    "import torch.optim as optim\n",
    "import torch.nn.functional as F\n",
    "from sklearn.model_selection import train_test_split\n",
    "import matplotlib.pyplot as plt"
   ]
  },
  {
   "cell_type": "code",
   "execution_count": null,
   "id": "61f1687a",
   "metadata": {},
   "outputs": [],
   "source": [
    "# download the dataset - a onetime task\n",
    "url = \"https://gist.githubusercontent.com/curran/a08a1080b88344b0c8a7/raw/0e7a9b0a5d22642a06d3d5b9bcbad9890c8ee534/iris.csv\"\n",
    "df = pd.read_csv(url)\n",
    "df.to_csv('iris.csv', index=False)\n",
    "df.head()"
   ]
  },
  {
   "cell_type": "code",
   "execution_count": 2,
   "id": "e5956782",
   "metadata": {},
   "outputs": [
    {
     "data": {
      "text/html": [
       "<div>\n",
       "<style scoped>\n",
       "    .dataframe tbody tr th:only-of-type {\n",
       "        vertical-align: middle;\n",
       "    }\n",
       "\n",
       "    .dataframe tbody tr th {\n",
       "        vertical-align: top;\n",
       "    }\n",
       "\n",
       "    .dataframe thead th {\n",
       "        text-align: right;\n",
       "    }\n",
       "</style>\n",
       "<table border=\"1\" class=\"dataframe\">\n",
       "  <thead>\n",
       "    <tr style=\"text-align: right;\">\n",
       "      <th></th>\n",
       "      <th>sepal_length</th>\n",
       "      <th>sepal_width</th>\n",
       "      <th>petal_length</th>\n",
       "      <th>petal_width</th>\n",
       "      <th>species</th>\n",
       "    </tr>\n",
       "  </thead>\n",
       "  <tbody>\n",
       "    <tr>\n",
       "      <th>0</th>\n",
       "      <td>5.1</td>\n",
       "      <td>3.5</td>\n",
       "      <td>1.4</td>\n",
       "      <td>0.2</td>\n",
       "      <td>setosa</td>\n",
       "    </tr>\n",
       "    <tr>\n",
       "      <th>1</th>\n",
       "      <td>4.9</td>\n",
       "      <td>3.0</td>\n",
       "      <td>1.4</td>\n",
       "      <td>0.2</td>\n",
       "      <td>setosa</td>\n",
       "    </tr>\n",
       "    <tr>\n",
       "      <th>2</th>\n",
       "      <td>4.7</td>\n",
       "      <td>3.2</td>\n",
       "      <td>1.3</td>\n",
       "      <td>0.2</td>\n",
       "      <td>setosa</td>\n",
       "    </tr>\n",
       "    <tr>\n",
       "      <th>3</th>\n",
       "      <td>4.6</td>\n",
       "      <td>3.1</td>\n",
       "      <td>1.5</td>\n",
       "      <td>0.2</td>\n",
       "      <td>setosa</td>\n",
       "    </tr>\n",
       "    <tr>\n",
       "      <th>4</th>\n",
       "      <td>5.0</td>\n",
       "      <td>3.6</td>\n",
       "      <td>1.4</td>\n",
       "      <td>0.2</td>\n",
       "      <td>setosa</td>\n",
       "    </tr>\n",
       "  </tbody>\n",
       "</table>\n",
       "</div>"
      ],
      "text/plain": [
       "   sepal_length  sepal_width  petal_length  petal_width species\n",
       "0           5.1          3.5           1.4          0.2  setosa\n",
       "1           4.9          3.0           1.4          0.2  setosa\n",
       "2           4.7          3.2           1.3          0.2  setosa\n",
       "3           4.6          3.1           1.5          0.2  setosa\n",
       "4           5.0          3.6           1.4          0.2  setosa"
      ]
     },
     "execution_count": 2,
     "metadata": {},
     "output_type": "execute_result"
    }
   ],
   "source": [
    "url = \"iris.csv\"\n",
    "df = pd.read_csv(url)\n",
    "df.head()"
   ]
  },
  {
   "cell_type": "code",
   "execution_count": 3,
   "id": "292f88b2",
   "metadata": {},
   "outputs": [
    {
     "name": "stderr",
     "output_type": "stream",
     "text": [
      "C:\\Users\\berek\\AppData\\Local\\Temp\\ipykernel_7740\\609982642.py:1: FutureWarning: Downcasting behavior in `replace` is deprecated and will be removed in a future version. To retain the old behavior, explicitly call `result.infer_objects(copy=False)`. To opt-in to the future behavior, set `pd.set_option('future.no_silent_downcasting', True)`\n",
      "  df = df.replace({\"species\": {\"setosa\": 0, \"versicolor\": 1, \"virginica\": 2}})\n"
     ]
    },
    {
     "data": {
      "text/html": [
       "<div>\n",
       "<style scoped>\n",
       "    .dataframe tbody tr th:only-of-type {\n",
       "        vertical-align: middle;\n",
       "    }\n",
       "\n",
       "    .dataframe tbody tr th {\n",
       "        vertical-align: top;\n",
       "    }\n",
       "\n",
       "    .dataframe thead th {\n",
       "        text-align: right;\n",
       "    }\n",
       "</style>\n",
       "<table border=\"1\" class=\"dataframe\">\n",
       "  <thead>\n",
       "    <tr style=\"text-align: right;\">\n",
       "      <th></th>\n",
       "      <th>sepal_length</th>\n",
       "      <th>sepal_width</th>\n",
       "      <th>petal_length</th>\n",
       "      <th>petal_width</th>\n",
       "      <th>species</th>\n",
       "    </tr>\n",
       "  </thead>\n",
       "  <tbody>\n",
       "    <tr>\n",
       "      <th>0</th>\n",
       "      <td>5.1</td>\n",
       "      <td>3.5</td>\n",
       "      <td>1.4</td>\n",
       "      <td>0.2</td>\n",
       "      <td>0</td>\n",
       "    </tr>\n",
       "    <tr>\n",
       "      <th>1</th>\n",
       "      <td>4.9</td>\n",
       "      <td>3.0</td>\n",
       "      <td>1.4</td>\n",
       "      <td>0.2</td>\n",
       "      <td>0</td>\n",
       "    </tr>\n",
       "    <tr>\n",
       "      <th>2</th>\n",
       "      <td>4.7</td>\n",
       "      <td>3.2</td>\n",
       "      <td>1.3</td>\n",
       "      <td>0.2</td>\n",
       "      <td>0</td>\n",
       "    </tr>\n",
       "    <tr>\n",
       "      <th>3</th>\n",
       "      <td>4.6</td>\n",
       "      <td>3.1</td>\n",
       "      <td>1.5</td>\n",
       "      <td>0.2</td>\n",
       "      <td>0</td>\n",
       "    </tr>\n",
       "    <tr>\n",
       "      <th>4</th>\n",
       "      <td>5.0</td>\n",
       "      <td>3.6</td>\n",
       "      <td>1.4</td>\n",
       "      <td>0.2</td>\n",
       "      <td>0</td>\n",
       "    </tr>\n",
       "  </tbody>\n",
       "</table>\n",
       "</div>"
      ],
      "text/plain": [
       "   sepal_length  sepal_width  petal_length  petal_width  species\n",
       "0           5.1          3.5           1.4          0.2        0\n",
       "1           4.9          3.0           1.4          0.2        0\n",
       "2           4.7          3.2           1.3          0.2        0\n",
       "3           4.6          3.1           1.5          0.2        0\n",
       "4           5.0          3.6           1.4          0.2        0"
      ]
     },
     "execution_count": 3,
     "metadata": {},
     "output_type": "execute_result"
    }
   ],
   "source": [
    "df = df.replace({\"species\": {\"setosa\": 0, \"versicolor\": 1, \"virginica\": 2}})\n",
    "df.head()"
   ]
  },
  {
   "cell_type": "code",
   "execution_count": 4,
   "id": "670b640e",
   "metadata": {},
   "outputs": [
    {
     "name": "stdout",
     "output_type": "stream",
     "text": [
      "(150, 4)\n",
      "(150,)\n",
      "torch.Size([120, 4])\n",
      "torch.Size([30, 4])\n",
      "torch.Size([120])\n",
      "torch.Size([30])\n"
     ]
    }
   ],
   "source": [
    "X = df.drop('species', axis=1).values\n",
    "y = df['species'].values\n",
    "print(X.shape)\n",
    "print(y.shape)\n",
    "X_train, X_test, y_train, y_test = train_test_split(X, y, test_size=0.2, random_state=42)\n",
    "X_train = torch.tensor(X_train, dtype=torch.float32)\n",
    "X_test = torch.tensor(X_test, dtype=torch.float32)\n",
    "y_train = torch.tensor(y_train, dtype=torch.long)\n",
    "y_test = torch.tensor(y_test, dtype=torch.long)\n",
    "print(X_train.shape)\n",
    "print(X_test.shape)\n",
    "print(y_train.shape)\n",
    "print(y_test.shape)"
   ]
  },
  {
   "cell_type": "code",
   "execution_count": 35,
   "id": "74247c65",
   "metadata": {},
   "outputs": [],
   "source": [
    "class Model(nn.Module):\n",
    "    def __init__(self):\n",
    "        super(Model, self).__init__()\n",
    "        self.layers = nn.Sequential(\n",
    "            nn.Linear(4, 20, bias=False),\n",
    "            nn.BatchNorm1d(20),\n",
    "            nn.GELU(),\n",
    "            nn.Linear(20, 32, bias=False),\n",
    "            nn.BatchNorm1d(32),\n",
    "            nn.GELU(),\n",
    "            nn.Linear(32, 3, bias=False)\n",
    "        )\n",
    "\n",
    "    def forward(self, x):\n",
    "        return self.layers(x)\n",
    "\n",
    "    def train(self, X_train, y_train, num_epochs):\n",
    "        criterion = nn.CrossEntropyLoss()\n",
    "        optimizer = optim.Adam(self.parameters(), lr=0.01)\n",
    "        train_losses = []\n",
    "        for epoch in range(num_epochs):\n",
    "            optimizer.zero_grad()\n",
    "            y_pred = self.forward(X_train)\n",
    "            loss = criterion(y_pred, y_train)\n",
    "            loss.backward()\n",
    "            optimizer.step()\n",
    "            if epoch == 0 or epoch % 25 == 24:\n",
    "                print(f\"Epoch {epoch + 1}/{num_epochs}, Loss: {loss.item()}\")\n",
    "            train_losses.append(loss.item())\n",
    "        return train_losses\n"
   ]
  },
  {
   "cell_type": "code",
   "execution_count": 36,
   "id": "ae5aba46",
   "metadata": {},
   "outputs": [
    {
     "name": "stdout",
     "output_type": "stream",
     "text": [
      "Epoch 1/100, Loss: 1.198500394821167\n",
      "Epoch 25/100, Loss: 0.05635455995798111\n",
      "Epoch 50/100, Loss: 0.04241907596588135\n",
      "Epoch 75/100, Loss: 0.02974284067749977\n",
      "Epoch 100/100, Loss: 0.017952797934412956\n"
     ]
    }
   ],
   "source": [
    "device = torch.accelerator.current_accelerator().type if torch.accelerator.is_available() else 'cpu'\n",
    "model = Model().to(device)\n",
    "num_epochs = 100\n",
    "train_losses = model.train(X_train, y_train, num_epochs)\n"
   ]
  },
  {
   "cell_type": "code",
   "execution_count": 19,
   "id": "7f249a96",
   "metadata": {},
   "outputs": [
    {
     "name": "stdout",
     "output_type": "stream",
     "text": [
      "Model structure: \n",
      "Model(\n",
      "  (layers): Sequential(\n",
      "    (0): Linear(in_features=4, out_features=20, bias=False)\n",
      "    (1): ReLU()\n",
      "    (2): Linear(in_features=20, out_features=32, bias=False)\n",
      "    (3): ReLU()\n",
      "    (4): Linear(in_features=32, out_features=3, bias=False)\n",
      "  )\n",
      ")\n",
      "\n",
      "Model parameters:\n",
      "Layer: layers.0.weight | Size: torch.Size([20, 4]) | Values: \n",
      "tensor([[ 0.6880, -0.0814,  0.3706, -0.1421],\n",
      "        [ 0.2712,  0.3194, -0.0278, -0.7119]], grad_fn=<SliceBackward0>) \n",
      "\n",
      "Layer: layers.2.weight | Size: torch.Size([32, 20]) | Values: \n",
      "tensor([[ 0.0218,  0.0641, -0.2880,  0.0844, -0.0480,  0.0894, -0.2190, -0.0941,\n",
      "         -0.0248, -0.2956, -0.2312, -0.2188, -0.0071, -0.1586,  0.1782,  0.2079,\n",
      "          0.4537, -0.1570,  0.4879, -0.1703],\n",
      "        [ 0.3788, -0.1494,  0.2669,  0.1120, -0.1032,  0.2720,  0.0242,  0.0409,\n",
      "         -0.0290,  0.3747,  0.1257,  0.3701, -0.1775, -0.0612,  0.0076,  0.1675,\n",
      "         -0.3139, -0.1174, -0.2162,  0.3444]], grad_fn=<SliceBackward0>) \n",
      "\n",
      "Layer: layers.4.weight | Size: torch.Size([3, 32]) | Values: \n",
      "tensor([[ 0.4674, -0.3864,  0.3063, -0.1866,  0.0394, -0.2526, -0.0095,  0.3547,\n",
      "          0.0037, -0.1219, -0.3212, -0.2072, -0.0258, -0.0368, -0.6832,  0.4156,\n",
      "         -0.2504, -0.3129, -0.1716, -0.2018,  0.3098,  0.3527, -0.1995,  0.0661,\n",
      "          0.3732,  0.0189, -0.3178, -0.2169,  0.0266,  0.1376,  0.0645, -0.3563],\n",
      "        [-0.2085,  0.1574,  0.0291,  0.0538,  0.1457,  0.2322, -0.0100,  0.0842,\n",
      "          0.1068,  0.0656,  0.1002,  0.1207, -0.0237, -0.1349, -0.1618,  0.1789,\n",
      "         -0.0133, -0.3293, -0.0790,  0.3515,  0.0823, -0.0036, -0.4341, -0.0250,\n",
      "          0.0628,  0.0692,  0.1051,  0.1547, -0.0804,  0.1083,  0.1636, -0.0484]],\n",
      "       grad_fn=<SliceBackward0>) \n",
      "\n"
     ]
    }
   ],
   "source": [
    "print(f\"Model structure: \\n{model}\")\n",
    "print(f\"\\nModel parameters:\")\n",
    "for name, param in model.named_parameters():\n",
    "    print(f\"Layer: {name} | Size: {param.size()} | Values: \\n{param[:2]} \\n\")"
   ]
  },
  {
   "cell_type": "code",
   "execution_count": 20,
   "id": "d393e0a8",
   "metadata": {},
   "outputs": [
    {
     "data": {
      "image/png": "[encoded data removed]",
      "text/plain": [
       "<Figure size 1000x500 with 1 Axes>"
      ]
     },
     "metadata": {},
     "output_type": "display_data"
    }
   ],
   "source": [
    "plt.figure(figsize=(10, 5))\n",
    "plt.plot(range(1, num_epochs + 1), train_losses, label='Training Loss', color='blue')\n",
    "plt.xlabel('Epoch')\n",
    "plt.ylabel('Loss')\n",
    "plt.title('Training Loss over Epochs')\n",
    "plt.legend()\n",
    "plt.grid(True)\n",
    "plt.tight_layout()\n",
    "plt.show()"
   ]
  },
  {
   "cell_type": "code",
   "execution_count": null,
   "id": "f77b3cd9",
   "metadata": {},
   "outputs": [
    {
     "name": "stdout",
     "output_type": "stream",
     "text": [
      "Test Loss: 0.03816426545381546\n"
     ]
    }
   ],
   "source": [
    "# Test loss\n",
    "with torch.no_grad():\n",
    "    y_pred = model(X_test)\n",
    "    loss = criterion(y_pred, y_test)\n",
    "    print(f\"Test Loss: {loss.item()}\")"
   ]
  },
  {
   "cell_type": "code",
   "execution_count": null,
   "id": "df9e7aa9",
   "metadata": {},
   "outputs": [
    {
     "name": "stdout",
     "output_type": "stream",
     "text": [
      "1  Actual: tensor(1)  Predicted: tensor(1)\n",
      "2  Actual: tensor(0)  Predicted: tensor(0)\n",
      "3  Actual: tensor(2)  Predicted: tensor(2)\n",
      "4  Actual: tensor(1)  Predicted: tensor(1)\n",
      "5  Actual: tensor(1)  Predicted: tensor(1)\n",
      "6  Actual: tensor(0)  Predicted: tensor(0)\n",
      "7  Actual: tensor(1)  Predicted: tensor(1)\n",
      "8  Actual: tensor(2)  Predicted: tensor(2)\n",
      "9  Actual: tensor(1)  Predicted: tensor(1)\n",
      "10  Actual: tensor(1)  Predicted: tensor(1)\n",
      "11  Actual: tensor(2)  Predicted: tensor(2)\n",
      "12  Actual: tensor(0)  Predicted: tensor(0)\n",
      "13  Actual: tensor(0)  Predicted: tensor(0)\n",
      "14  Actual: tensor(0)  Predicted: tensor(0)\n",
      "15  Actual: tensor(0)  Predicted: tensor(0)\n",
      "16  Actual: tensor(1)  Predicted: tensor(1)\n",
      "17  Actual: tensor(2)  Predicted: tensor(2)\n",
      "18  Actual: tensor(1)  Predicted: tensor(1)\n",
      "19  Actual: tensor(1)  Predicted: tensor(1)\n",
      "20  Actual: tensor(2)  Predicted: tensor(2)\n",
      "21  Actual: tensor(0)  Predicted: tensor(0)\n",
      "22  Actual: tensor(2)  Predicted: tensor(2)\n",
      "23  Actual: tensor(0)  Predicted: tensor(0)\n",
      "24  Actual: tensor(2)  Predicted: tensor(2)\n",
      "25  Actual: tensor(2)  Predicted: tensor(2)\n",
      "26  Actual: tensor(2)  Predicted: tensor(2)\n",
      "27  Actual: tensor(2)  Predicted: tensor(2)\n",
      "28  Actual: tensor(2)  Predicted: tensor(2)\n",
      "29  Actual: tensor(0)  Predicted: tensor(0)\n",
      "30  Actual: tensor(0)  Predicted: tensor(0)\n"
     ]
    }
   ],
   "source": [
    "# Test accuracy - per item\n",
    "with torch.no_grad():\n",
    "    for i, data in enumerate(X_test):\n",
    "        x = data\n",
    "        y_pred = model(x)\n",
    "        print(i + 1, \" Actual:\", y_test[i], \" Predicted:\", y_pred.max(0)[1])\n",
    "        #print(f\"Predicted: {torch.argmax(y_pred[i])}, Actual: {y_test[i]}\")"
   ]
  },
  {
   "cell_type": "code",
   "execution_count": null,
   "id": "0d9ce218",
   "metadata": {},
   "outputs": [],
   "source": []
  }
 ],
 "metadata": {
  "kernelspec": {
   "display_name": "llms",
   "language": "python",
   "name": "python3"
  },
  "language_info": {
   "codemirror_mode": {
    "name": "ipython",
    "version": 3
   },
   "file_extension": ".py",
   "mimetype": "text/x-python",
   "name": "python",
   "nbconvert_exporter": "python",
   "pygments_lexer": "ipython3",
   "version": "3.11.11"
  }
 },
 "nbformat": 4,
 "nbformat_minor": 5
}
