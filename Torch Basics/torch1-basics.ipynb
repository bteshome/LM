{
 "cells": [
  {
   "cell_type": "code",
   "execution_count": 35,
   "id": "e455b033-43e2-4098-9890-59bfb4cb1e35",
   "metadata": {},
   "outputs": [],
   "source": [
    "import torch\n",
    "import numpy as np"
   ]
  },
  {
   "cell_type": "markdown",
   "id": "5f67e7e0",
   "metadata": {},
   "source": [
    "# device"
   ]
  },
  {
   "cell_type": "code",
   "execution_count": 69,
   "id": "198b08ff",
   "metadata": {},
   "outputs": [
    {
     "name": "stdout",
     "output_type": "stream",
     "text": [
      "torch.accelerator.is_available()? False\n",
      "device: cpu\n",
      "False\n",
      "0\n"
     ]
    }
   ],
   "source": [
    "print(\"torch.accelerator.is_available()?\", torch.accelerator.is_available())\n",
    "device = 'cpu'\n",
    "if torch.accelerator.is_available():\n",
    "    print(\"torch.accelerator.current_accelerator()\", torch.accelerator.current_accelerator())\n",
    "    device = torch.accelerator.current_accelerator().type\n",
    "print(\"device:\", device)\n",
    "print(torch.cuda.is_available())\n",
    "print(torch.cuda.device_count())"
   ]
  },
  {
   "cell_type": "markdown",
   "id": "50dd7c4e",
   "metadata": {},
   "source": [
    "# init - from python list"
   ]
  },
  {
   "cell_type": "code",
   "execution_count": 83,
   "id": "42f2cee7-292f-41cb-bd44-a020f03cc8e0",
   "metadata": {},
   "outputs": [
    {
     "name": "stdout",
     "output_type": "stream",
     "text": [
      "torch.Size([2])\n",
      "torch.Size([1])\n",
      "torch.Size([])\n"
     ]
    }
   ],
   "source": [
    "a = torch.tensor([1, 2])\n",
    "b = torch.tensor([1])\n",
    "c = torch.tensor(1)\n",
    "d = torch.tensor([3, 4])\n",
    "e = torch.tensor([3])\n",
    "f = torch.tensor(3)\n",
    "print(a.shape)\n",
    "print(b.shape)\n",
    "print(c.shape)"
   ]
  },
  {
   "cell_type": "markdown",
   "id": "07ce7e23",
   "metadata": {},
   "source": [
    "# init 2"
   ]
  },
  {
   "cell_type": "code",
   "execution_count": 85,
   "id": "46b0b746",
   "metadata": {},
   "outputs": [
    {
     "name": "stdout",
     "output_type": "stream",
     "text": [
      "[[1 2 3]\n",
      " [4 5 6]]\n",
      "tensor([[1, 2, 3],\n",
      "        [4, 5, 6]], dtype=torch.int32)\n",
      "[[1 2 3]\n",
      " [4 5 6]]\n",
      "tensor([[1, 1, 1],\n",
      "        [1, 1, 1]], dtype=torch.int32)\n",
      "tensor([[0., 0., 0.],\n",
      "        [0., 0., 0.]])\n",
      "tensor([0, 2, 4, 6, 8])\n",
      "tensor([0, 0, 0, 0, 0, 0, 0, 0, 0, 0])\n"
     ]
    }
   ],
   "source": [
    "a = np.array([[1, 2, 3], [4, 5, 6]])    \n",
    "b = torch.from_numpy(a)       # from numpy array\n",
    "c = b.numpy()                 # to numpy array\n",
    "print(a)\n",
    "print(b)\n",
    "print(c)\n",
    "print(torch.ones_like(b))\n",
    "print(torch.zeros_like(b, dtype=torch.float32))\n",
    "\n",
    "print(torch.arange(0, 10, 2))  # 1D tensor with low, high, step\n",
    "print(torch.zeros(10, dtype=torch.long))"
   ]
  },
  {
   "cell_type": "markdown",
   "id": "d4b1b11a",
   "metadata": {},
   "source": [
    "# int 3 - random tensor"
   ]
  },
  {
   "cell_type": "code",
   "execution_count": null,
   "id": "805edeaa",
   "metadata": {},
   "outputs": [
    {
     "name": "stdout",
     "output_type": "stream",
     "text": [
      "tensor([[0.9192, 0.4216, 0.4431],\n",
      "        [0.2959, 0.0485, 0.0134]])\n",
      "tensor([[-1.0541,  0.0887, -0.2586],\n",
      "        [-0.4564, -1.1848, -1.1518]])\n",
      "tensor([[5, 1, 9],\n",
      "        [3, 7, 6]])\n",
      "tensor([[5, 0, 8],\n",
      "        [5, 8, 8]])\n",
      "tensor([0, 2, 4, 6, 8])\n",
      "tensor([[1, 0, 0],\n",
      "        [0, 1, 0],\n",
      "        [0, 0, 1]], dtype=torch.int32)\n"
     ]
    }
   ],
   "source": [
    "print(torch.rand(size=(2, 3)))  # random tensor of shape (2, 3) from uniform distribution b/n 0 and 1\n",
    "print(torch.randn(size=(2, 3)))  # random tensor of shape (2, 3) from normal distribution\n",
    "print(torch.randint(high=10, size=(2, 3)))\n",
    "print(torch.randint(low=0, high=10, size=(2, 3)))  # random tensor of shape (2, 3) with integers from 0 to 9"
   ]
  },
  {
   "cell_type": "markdown",
   "id": "a810c871",
   "metadata": {},
   "source": [
    "# identity, full, etc."
   ]
  },
  {
   "cell_type": "code",
   "execution_count": 82,
   "id": "cd2e5d3e",
   "metadata": {},
   "outputs": [
    {
     "name": "stdout",
     "output_type": "stream",
     "text": [
      "tensor([[1, 0, 0],\n",
      "        [0, 1, 0],\n",
      "        [0, 0, 1]], dtype=torch.int32)\n",
      "tensor([[7, 7, 7],\n",
      "        [7, 7, 7]], dtype=torch.int32)\n"
     ]
    }
   ],
   "source": [
    "print(torch.eye(3, dtype=torch.int32))          # identity matrix of shape (3, 3)\n",
    "print(torch.full((2,3), 7, dtype=torch.int32))  # full"
   ]
  },
  {
   "cell_type": "markdown",
   "id": "64557d86",
   "metadata": {},
   "source": [
    "# int 3 = random tensor - reproducible"
   ]
  },
  {
   "cell_type": "code",
   "execution_count": 68,
   "id": "9c97a1a0",
   "metadata": {},
   "outputs": [
    {
     "name": "stdout",
     "output_type": "stream",
     "text": [
      "tensor([[0.8823, 0.9150, 0.3829],\n",
      "        [0.9593, 0.3904, 0.6009]])\n",
      "tensor([[0.2566, 0.7936, 0.9408],\n",
      "        [0.1332, 0.9346, 0.5936]])\n",
      "tensor([[0.8694, 0.5677, 0.7411],\n",
      "        [0.4294, 0.8854, 0.5739]])\n"
     ]
    }
   ],
   "source": [
    "torch.manual_seed(42)  # set the random seed for reproducibility\n",
    "torch.cuda.manual_seed(42)  # set the random seed for CUDA (if available)\n",
    "print(torch.rand(size=(2, 3)))\n",
    "print(torch.rand(size=(2, 3)))\n",
    "print(torch.rand(2, 3))\n",
    "\n"
   ]
  },
  {
   "cell_type": "markdown",
   "id": "3d8f7027",
   "metadata": {},
   "source": [
    "# tensor attributes"
   ]
  },
  {
   "cell_type": "code",
   "execution_count": 23,
   "id": "9f75979d",
   "metadata": {},
   "outputs": [
    {
     "name": "stdout",
     "output_type": "stream",
     "text": [
      "torch.Size([2, 3])\n",
      "torch.int64\n",
      "cpu\n",
      "False\n",
      "torch.accelerator.is_available(): False\n"
     ]
    }
   ],
   "source": [
    "a = torch.tensor([[1, 2, 3], [4, 5, 6]])\n",
    "print(a.shape)\n",
    "print(a.dtype)\n",
    "\n",
    "# CUDA\n",
    "print(a.device)\n",
    "print(a.is_cuda)\n",
    "print('torch.accelerator.is_available():', torch.accelerator.is_available())\n",
    "if torch.accelerator.is_available():\n",
    "    a = tensor.to(torch.accelerator.current_accelerator())\n",
    "    b = torch.tensor([[1, 2, 3], [4, 5, 6]], device='cuda')\n",
    "    print(b.device)\n",
    "    print(b.is_cuda)\n"
   ]
  },
  {
   "cell_type": "markdown",
   "id": "ebdb2787",
   "metadata": {},
   "source": [
    "# element wise arithmetic"
   ]
  },
  {
   "cell_type": "code",
   "execution_count": null,
   "id": "78b09ab0",
   "metadata": {},
   "outputs": [
    {
     "name": "stdout",
     "output_type": "stream",
     "text": [
      "tensor([[ 1,  4,  9],\n",
      "        [16, 25, 36]])\n",
      "tensor([[ 1,  4,  9],\n",
      "        [16, 25, 36]])\n",
      "tensor([[ 1,  4,  9],\n",
      "        [16, 25, 36]])\n",
      "tensor([[ 2,  4,  6],\n",
      "        [ 8, 10, 12]])\n",
      "tensor([[2, 3, 4],\n",
      "        [5, 6, 7]])\n",
      "tensor([[ 1,  4,  9],\n",
      "        [ 4, 10, 18]])\n"
     ]
    }
   ],
   "source": [
    "a = torch.tensor([[1, 2, 3], [4, 5, 6]])\n",
    "b = torch.tensor([[1, 2, 3], [4, 5, 6]])\n",
    "c = torch.tensor([[1, 2, 3]])\n",
    "print(a*b)\n",
    "print(a.mul(b))\n",
    "print(torch.mul(a, b))\n",
    "print(a+b)\n",
    "print(a + 1)"
   ]
  },
  {
   "cell_type": "markdown",
   "id": "b11a3b4a-bbdb-4218-a09c-233eaa122e3d",
   "metadata": {},
   "source": [
    "# matrix arithmetic"
   ]
  },
  {
   "cell_type": "code",
   "execution_count": null,
   "id": "d248c188-54e8-44a4-a10c-88fec1b28e72",
   "metadata": {},
   "outputs": [
    {
     "name": "stdout",
     "output_type": "stream",
     "text": [
      "tensor([[11]])\n",
      "tensor([[11]])\n",
      "tensor([[11]])\n",
      "tensor(12)\n"
     ]
    }
   ],
   "source": [
    "a = torch.tensor([[1, 2]])\n",
    "b = torch.tensor([[3], [4]])\n",
    "print(torch.matmul(a, b))\n",
    "print(a.matmul(b))                                          # same as above\n",
    "print(a @ b)                                                # same as above\n",
    "print(torch.tensor([1, 2, 3]) @ torch.tensor([2, 2, 2]))    # dot product - a 1D case of matmul\n",
    "# matrix arithmetic 2"
   ]
  },
  {
   "cell_type": "markdown",
   "id": "b2a483c1",
   "metadata": {},
   "source": [
    "# matrix arithmetic 2"
   ]
  },
  {
   "cell_type": "code",
   "execution_count": null,
   "id": "c98f910e",
   "metadata": {},
   "outputs": [],
   "source": [
    "a = torch.ones(3, 4, dtype=torch.int32)\n",
    "print(a)\n",
    "print(a.sum(dim=0))\n",
    "print(a.sum(dim=1))\n",
    "print(a.sum(dim=0, keepdim=True))\n",
    "print(a.sum(dim=1, keepdim=True))"
   ]
  },
  {
   "cell_type": "markdown",
   "id": "47f52a09",
   "metadata": {},
   "source": [
    "# logical operators"
   ]
  },
  {
   "cell_type": "code",
   "execution_count": 135,
   "id": "04e980ad",
   "metadata": {},
   "outputs": [
    {
     "name": "stdout",
     "output_type": "stream",
     "text": [
      "tensor([[False, False],\n",
      "        [ True,  True]])\n",
      "tensor([[ True,  True],\n",
      "        [False, False]])\n"
     ]
    }
   ],
   "source": [
    "a = torch.tensor([[1, 2], [3, 4]])\n",
    "print(a > 2)\n",
    "print(a <= 2)"
   ]
  },
  {
   "cell_type": "markdown",
   "id": "f6bf89f2",
   "metadata": {},
   "source": [
    "# broadcasting - element wise"
   ]
  },
  {
   "cell_type": "code",
   "execution_count": 94,
   "id": "9a4bdd58",
   "metadata": {},
   "outputs": [
    {
     "name": "stdout",
     "output_type": "stream",
     "text": [
      "tensor([[ 5, 12],\n",
      "        [ 7, 16]])\n"
     ]
    }
   ],
   "source": [
    "a = torch.tensor([[1, 2]])\n",
    "b = torch.tensor([[5, 6], [7, 8]])\n",
    "print(a * b)"
   ]
  },
  {
   "cell_type": "markdown",
   "id": "2bfc8bef",
   "metadata": {},
   "source": [
    "# broadcasting - @\n",
    "NOTE - broadcasting only happens in the batch dimensions, not across the matrix dims themselves."
   ]
  },
  {
   "cell_type": "code",
   "execution_count": 103,
   "id": "f065a051",
   "metadata": {},
   "outputs": [
    {
     "name": "stdout",
     "output_type": "stream",
     "text": [
      "tensor([[[0.4613, 0.0069, 0.0907],\n",
      "         [0.5966, 0.6330, 0.6060]],\n",
      "\n",
      "        [[0.3639, 0.9613, 0.5715],\n",
      "         [0.2050, 0.4717, 0.6201]]])\n",
      "tensor([[[0.6751, 0.1465],\n",
      "         [0.6874, 0.2446],\n",
      "         [0.0845, 0.2269]]])\n",
      "tensor([[[0.3239, 0.0898],\n",
      "         [0.8891, 0.3797]],\n",
      "\n",
      "        [[0.9548, 0.4181],\n",
      "         [0.5150, 0.2861]]])\n"
     ]
    }
   ],
   "source": [
    "a = torch.rand(size=(2, 2, 3))\n",
    "b = torch.rand(size=(1, 3, 2))\n",
    "print(a)\n",
    "print(b)\n",
    "print(a @ b)"
   ]
  },
  {
   "cell_type": "markdown",
   "id": "3d77446e-3823-4c60-841a-388cc8f41778",
   "metadata": {},
   "source": [
    "# dimension (aka rank) vs shape"
   ]
  },
  {
   "cell_type": "code",
   "execution_count": null,
   "id": "01a7a5dd-a322-4a8c-b3c8-6e604fd75ad3",
   "metadata": {},
   "outputs": [
    {
     "name": "stdout",
     "output_type": "stream",
     "text": [
      "torch.Size([3, 1])\n",
      "torch.Size([3, 1])\n",
      "2\n",
      "2\n"
     ]
    }
   ],
   "source": [
    "a = torch.tensor([[1], [2], [3]])\n",
    "print(a.shape)   # shape or size\n",
    "print(a.size())  # same as above\n",
    "print(a.ndim)    # dimension or rank\n",
    "print(a.dim())   # same as above\n"
   ]
  },
  {
   "cell_type": "markdown",
   "id": "9cf51962",
   "metadata": {},
   "source": [
    "# min, max, argmin"
   ]
  },
  {
   "cell_type": "code",
   "execution_count": 12,
   "id": "2717d183",
   "metadata": {},
   "outputs": [
    {
     "name": "stdout",
     "output_type": "stream",
     "text": [
      "tensor([0.7823, 0.5193, 0.1382, 0.5651, 0.6155, 0.5722, 0.8313, 0.8386, 0.0764,\n",
      "        0.4542])\n",
      "tensor(0.0764) @ tensor(8)\n",
      "tensor(0.8386) @ tensor(7)\n",
      "tensor(5.3929)\n",
      "tensor(0.5393)\n",
      "tensor(0.2634)\n",
      "tensor(0.8386)\n"
     ]
    }
   ],
   "source": [
    "a = torch.rand(10)\n",
    "print(a)\n",
    "print(a.min(), \"@\", a.argmin())\n",
    "print(a.max(), \"@\", a.argmax())\n",
    "print(a.sum())\n",
    "print(a.mean())\n",
    "print(a.std())\n",
    "# this will be useful when using sofmax\n",
    "max_index = a.argmax()\n",
    "print(a[max_index])"
   ]
  },
  {
   "cell_type": "markdown",
   "id": "1f129cf5",
   "metadata": {},
   "source": [
    "# squeeze/unsqueeze"
   ]
  },
  {
   "cell_type": "code",
   "execution_count": 54,
   "id": "a1533583",
   "metadata": {},
   "outputs": [
    {
     "name": "stdout",
     "output_type": "stream",
     "text": [
      "tensor([1, 2])\n",
      "tensor([1, 2])\n",
      "tensor(1)\n",
      "tensor(1)\n"
     ]
    }
   ],
   "source": [
    "a = torch.tensor([[1, 2]])\n",
    "b = torch.tensor([[1]])\n",
    "c = torch.tensor([1])\n",
    "print(a.squeeze())\n",
    "print(a.squeeze().squeeze())\n",
    "print(b.squeeze())\n",
    "print(c.squeeze())\n",
    "#print(torch.tensor([[[1]]]).unsqueeze(0))"
   ]
  },
  {
   "cell_type": "markdown",
   "id": "11e3341a",
   "metadata": {},
   "source": [
    "# reshape"
   ]
  },
  {
   "cell_type": "code",
   "execution_count": 50,
   "id": "db79143c",
   "metadata": {},
   "outputs": [
    {
     "name": "stdout",
     "output_type": "stream",
     "text": [
      "tensor([[1, 2, 3],\n",
      "        [4, 5, 6]])\n",
      "tensor([[1],\n",
      "        [2],\n",
      "        [3],\n",
      "        [4],\n",
      "        [5],\n",
      "        [6]])\n",
      "tensor([[1, 2, 3, 4, 5, 6]])\n",
      "tensor([[1, 2],\n",
      "        [3, 4],\n",
      "        [5, 6]])\n",
      "tensor([[[1],\n",
      "         [2],\n",
      "         [3],\n",
      "         [4],\n",
      "         [5],\n",
      "         [6]]])\n",
      "tensor([[1, 2],\n",
      "        [3, 4],\n",
      "        [5, 6]])\n",
      "after modification\n",
      "tensor([[1, 2, 3],\n",
      "        [4, 5, 6]])\n",
      "tensor([[100, 100, 100],\n",
      "        [100, 100, 100]])\n",
      "tensor([[100, 100, 100, 100, 100, 100]])\n"
     ]
    }
   ],
   "source": [
    "a = torch.tensor([[1, 2, 3], [4, 5, 6]])\n",
    "print(a)\n",
    "print(a.reshape(6, 1))\n",
    "print(a.reshape(1, 6))\n",
    "print(a.reshape(3, 2))\n",
    "print(a.reshape(1, 6, 1))\n",
    "print(a.reshape(3, -1))         ## here, -1 means \"infer the size of this dimension\"\n",
    "print(\"after modification\")\n",
    "print(a)\n",
    "b = a.reshape(1, 6)\n",
    "b[0] = 100\n",
    "print(a)\n",
    "print(b)"
   ]
  },
  {
   "cell_type": "markdown",
   "id": "ec69ba6d",
   "metadata": {},
   "source": [
    "# view\n",
    "1. view always requires compatibility\n",
    "2. reshape - when compatbile, it behaves like view. otherwise, it returns a copy,\n",
    "   and hence modificiation of the original won't affect the copy and vice versa"
   ]
  },
  {
   "cell_type": "code",
   "execution_count": 123,
   "id": "4292b29c",
   "metadata": {},
   "outputs": [
    {
     "name": "stdout",
     "output_type": "stream",
     "text": [
      "tensor([[1],\n",
      "        [2],\n",
      "        [3],\n",
      "        [4],\n",
      "        [5],\n",
      "        [6]])\n",
      "tensor([[1, 2, 3, 4, 5, 6]])\n",
      "tensor([1, 2, 3, 4, 5, 6])\n",
      "tensor([1, 2, 3, 4, 5, 6])\n",
      "tensor([[1, 2, 3],\n",
      "        [4, 5, 6]])\n",
      "tensor([[1, 2],\n",
      "        [3, 4],\n",
      "        [5, 6]])\n"
     ]
    }
   ],
   "source": [
    "a = torch.tensor([[1, 2], [3, 4], [5, 6]])\n",
    "print(a.view(6, 1))\n",
    "print(a.view(1, 6))\n",
    "print(a.view(6))\n",
    "print(a.view(-1))\n",
    "print(a.view(2, 3))\n",
    "print(a.view(3, 2))\n",
    "\n"
   ]
  },
  {
   "cell_type": "markdown",
   "id": "fa497eb4",
   "metadata": {},
   "source": [
    "# convert to python number or list"
   ]
  },
  {
   "cell_type": "code",
   "execution_count": 59,
   "id": "eac80e4f",
   "metadata": {},
   "outputs": [
    {
     "name": "stdout",
     "output_type": "stream",
     "text": [
      "21\n",
      "[4, 5, 6]\n"
     ]
    }
   ],
   "source": [
    "a = torch.tensor([[1, 2, 3], [4, 5, 6]])\n",
    "print(a.sum().item())  # convert to python number\n",
    "print(a[-1].tolist()) # convert to python list"
   ]
  },
  {
   "cell_type": "markdown",
   "id": "c755c1a1",
   "metadata": {},
   "source": [
    "# indexing and slicing"
   ]
  },
  {
   "cell_type": "code",
   "execution_count": 139,
   "id": "5985274e",
   "metadata": {},
   "outputs": [
    {
     "name": "stdout",
     "output_type": "stream",
     "text": [
      "tensor([1, 2, 3])\n",
      "tensor([7, 8, 9])\n",
      "tensor([1, 4, 7])\n",
      "tensor([3, 6, 9])\n",
      "tensor(9)\n",
      "tensor([[1, 2],\n",
      "        [4, 5]])\n",
      "tensor([[1, 2, 3],\n",
      "        [7, 8, 9]])\n",
      "tensor([[1, 3],\n",
      "        [4, 6],\n",
      "        [7, 9]])\n",
      "tensor([[2],\n",
      "        [5],\n",
      "        [8]])\n",
      "tensor([[1, 3],\n",
      "        [4, 6],\n",
      "        [7, 9]])\n",
      "tensor([1, 5])\n"
     ]
    }
   ],
   "source": [
    "a = torch.tensor([[1, 2, 3], [4, 5, 6], [7, 8, 9]])\n",
    "print(a[0]) # first row\n",
    "print(a[-1]) # last row\n",
    "print(a[:, 0])  # first column\n",
    "print(a[:, -1])  # last colunn\n",
    "print(a[-1, -1])  # last element\n",
    "print(a[:2, :2])  # rows upto row 2 (exclusive), columns upto column 2 (exclusive)\n",
    "print(a[::2, :])    # odd rows\n",
    "print(a[:, ::2])    # odd columns\n",
    "print(a[:, 1::2])    # even columns\n",
    "print(a[:, [0,2]])  # first and third columns\n",
    "print(a[[0,1], [0,1]])"
   ]
  },
  {
   "cell_type": "markdown",
   "id": "fcc777ad",
   "metadata": {},
   "source": [
    "# cat\n",
    "concatenates the given sequence along an existing dimension."
   ]
  },
  {
   "cell_type": "code",
   "execution_count": 34,
   "id": "8008c514",
   "metadata": {},
   "outputs": [
    {
     "name": "stdout",
     "output_type": "stream",
     "text": [
      "tensor([[ 1,  2,  3],\n",
      "        [ 4,  5,  6],\n",
      "        [ 7,  8,  9],\n",
      "        [10, 11, 12]])\n",
      "tensor([[ 1,  2,  3],\n",
      "        [ 4,  5,  6],\n",
      "        [ 7,  8,  9],\n",
      "        [10, 11, 12]])\n",
      "tensor([[ 1,  2,  3,  7,  8,  9],\n",
      "        [ 4,  5,  6, 10, 11, 12]])\n"
     ]
    }
   ],
   "source": [
    "a = torch.tensor([[1, 2, 3], [4, 5, 6]])\n",
    "b = torch.tensor([[7, 8, 9], [10, 11, 12]])\n",
    "print(torch.cat([a, b], dim=0))  # concatenate along rows\n",
    "print(torch.cat([a, b]))         # same as before - defaults to dim 0\n",
    "print(torch.cat([a, b], dim=1))  # concatenate along columns"
   ]
  },
  {
   "cell_type": "markdown",
   "id": "c1997de4",
   "metadata": {},
   "source": [
    "# concat\n",
    "concatenates a sequence of tensors along a new dimension."
   ]
  },
  {
   "cell_type": "code",
   "execution_count": 14,
   "id": "1ee84bc7",
   "metadata": {},
   "outputs": [
    {
     "name": "stdout",
     "output_type": "stream",
     "text": [
      "tensor([[[ 1,  2],\n",
      "         [ 3,  4]],\n",
      "\n",
      "        [[ 5,  6],\n",
      "         [ 7,  8]],\n",
      "\n",
      "        [[ 9, 10],\n",
      "         [11, 12]]])\n",
      "torch.Size([3, 2, 2])\n",
      "\n",
      "tensor([[[ 1,  2],\n",
      "         [ 5,  6],\n",
      "         [ 9, 10]],\n",
      "\n",
      "        [[ 3,  4],\n",
      "         [ 7,  8],\n",
      "         [11, 12]]])\n",
      "torch.Size([2, 3, 2])\n",
      "\n",
      "tensor([[[ 1,  5,  9],\n",
      "         [ 2,  6, 10]],\n",
      "\n",
      "        [[ 3,  7, 11],\n",
      "         [ 4,  8, 12]]])\n",
      "torch.Size([2, 2, 3])\n"
     ]
    }
   ],
   "source": [
    "a = torch.tensor([[1, 2], [3, 4]])\n",
    "b = torch.tensor([[5, 6], [7, 8]])\n",
    "c = torch.tensor([[9, 10], [11, 12]])\n",
    "print(torch.stack([a, b, c], dim=0))  # stack along rows\n",
    "print(torch.stack([a, b, c], dim=0).shape)\n",
    "print()\n",
    "print(torch.stack([a, b, c], dim=1))  # stack along columns\n",
    "print(torch.stack([a, b, c], dim=1).shape)\n",
    "print()\n",
    "print(torch.stack([a, b, c], dim=2))  # stack along depth\n",
    "print(torch.stack([a, b, c], dim=2).shape)"
   ]
  },
  {
   "cell_type": "markdown",
   "id": "6fa98350",
   "metadata": {},
   "source": [
    "# in-place operations\n",
    "NOTE: their use is discouraged, because of loss of history and hence problems with computing derivatives"
   ]
  },
  {
   "cell_type": "code",
   "execution_count": null,
   "id": "888b82cd",
   "metadata": {},
   "outputs": [
    {
     "name": "stdout",
     "output_type": "stream",
     "text": [
      "tensor([[2, 3, 4],\n",
      "        [5, 6, 7]])\n"
     ]
    }
   ],
   "source": [
    "a = torch.tensor([[1, 2, 3], [4, 5, 6]])\n",
    "a.add_(1)  # in-place addition\n",
    "print(a)"
   ]
  },
  {
   "cell_type": "markdown",
   "id": "f11417bc",
   "metadata": {},
   "source": [
    "# grad"
   ]
  },
  {
   "cell_type": "code",
   "execution_count": 151,
   "id": "8aac3850",
   "metadata": {},
   "outputs": [
    {
     "name": "stdout",
     "output_type": "stream",
     "text": [
      "None\n",
      "tensor([[2., 2.],\n",
      "        [2., 2.]])\n",
      "tensor([[2., 4.],\n",
      "        [6., 8.]], grad_fn=<MulBackward0>)\n",
      "tensor([[3., 5.],\n",
      "        [7., 9.]], grad_fn=<AddBackward0>)\n",
      "tensor(24., grad_fn=<SumBackward0>)\n"
     ]
    }
   ],
   "source": [
    "a = torch.tensor([[1.0, 2.0], [3.0, 4.0]], requires_grad=True)\n",
    "b = a * 2\n",
    "c = b + 1\n",
    "d = c.sum()\n",
    "print(a.grad)\n",
    "d.backward()\n",
    "print(a.grad)\n",
    "#print(b.grad)  # NOTE: b is not a leaf node, so it doesn't have grad\n",
    "print(b)\n",
    "print(c)\n",
    "print(d)"
   ]
  },
  {
   "cell_type": "markdown",
   "id": "82d5872c",
   "metadata": {},
   "source": [
    "# sampling from a binomial distribution"
   ]
  },
  {
   "cell_type": "code",
   "execution_count": 185,
   "id": "96be8809",
   "metadata": {},
   "outputs": [
    {
     "name": "stdout",
     "output_type": "stream",
     "text": [
      "values: tensor([0.8823, 0.9150, 0.3829, 0.9593, 0.3904, 0.6009, 0.2566, 0.7936, 0.9408,\n",
      "        0.1332])\n",
      "probabilities: tensor([0.1411, 0.1463, 0.0612, 0.1534, 0.0624, 0.0961, 0.0410, 0.1269, 0.1504,\n",
      "        0.0213])\n",
      "max: tensor(0.1534)\n",
      "min: tensor(0.0213)\n",
      "sample_indices - values: tensor([0.1534, 0.1504, 0.1504, 0.1411, 0.1411, 0.1463, 0.1534, 0.1504, 0.1504,\n",
      "        0.1534])\n"
     ]
    }
   ],
   "source": [
    "torch.manual_seed(42)\n",
    "probabilities = torch.rand((10,), requires_grad=False)\n",
    "print(\"values:\", probabilities)\n",
    "probabilities = probabilities / probabilities.sum() # normalize to sum to 1\n",
    "print(\"probabilities:\", probabilities)\n",
    "sample_indices = torch.multinomial(probabilities, 10, replacement=True)  # sample 10 times with replacement\n",
    "print(\"max:\", probabilities.max())\n",
    "print(\"min:\", probabilities.min())\n",
    "print(\"sample_indices - values:\", probabilities[sample_indices])  # probabilities of the sampled indices"
   ]
  },
  {
   "cell_type": "code",
   "execution_count": null,
   "id": "046a64ee",
   "metadata": {},
   "outputs": [],
   "source": []
  }
 ],
 "metadata": {
  "kernelspec": {
   "display_name": "llms",
   "language": "python",
   "name": "python3"
  },
  "language_info": {
   "codemirror_mode": {
    "name": "ipython",
    "version": 3
   },
   "file_extension": ".py",
   "mimetype": "text/x-python",
   "name": "python",
   "nbconvert_exporter": "python",
   "pygments_lexer": "ipython3",
   "version": "3.11.11"
  }
 },
 "nbformat": 4,
 "nbformat_minor": 5
}
